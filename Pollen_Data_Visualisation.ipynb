{
 "cells": [
  {
   "cell_type": "markdown",
   "metadata": {},
   "source": [
    "# Pollen Data Visualisation\n",
    "The purpose of this notebook is to:\n",
    "- Load fossilised pollen assemblage and chronology data from the European Pollen Database (EPD)\n",
    "- Build interactive visualisations to explore the data\n",
    "- Derive hypotheses as to the causal drivers of trends observed in the data"
   ]
  },
  {
   "cell_type": "code",
   "execution_count": 1,
   "metadata": {
    "collapsed": true
   },
   "outputs": [],
   "source": [
    "from sqlalchemy import create_engine\n",
    "import pandas as pd\n",
    "import os"
   ]
  },
  {
   "cell_type": "markdown",
   "metadata": {},
   "source": [
    "Prior work has idendtified six sites as being of particular interest due to their temporal coverage of the majority of the Holocene, their spatial distribution around Iberia, and the fact that many of them provide evidence of human involvement in changing the landscape. \n",
    "\n",
    "These sites all have records stored in the EPD, and can be uniquely identified using the `sitecode` field in the `siteloc` table. These site names and corresponding sitecodes are stored in the dictionary `ssites' "
   ]
  },
  {
   "cell_type": "code",
   "execution_count": 2,
   "metadata": {
    "collapsed": true
   },
   "outputs": [],
   "source": [
    "ssites = {'San Rafael' : 'ESP-01000-SANR',\n",
    "          'Albufera de Alcudia' : 'ESP-04000-ALBU',\n",
    "          'Navarres' : 'ESP-11000-NAVA',\n",
    "          'Laguna Guallar' : 'ESP-02000-LAGU',\n",
    "          'Monte Areo mire' : 'ESP-03000-AREO',\n",
    "          'Sanabria Marsh' : 'ESP-08000-SANA'}"
   ]
  },
  {
   "cell_type": "markdown",
   "metadata": {},
   "source": [
    "Create a database engine for the session"
   ]
  },
  {
   "cell_type": "code",
   "execution_count": 3,
   "metadata": {
    "collapsed": true
   },
   "outputs": [],
   "source": [
    "engine = create_engine('postgresql://andrew@localhost:5432/epd95')"
   ]
  },
  {
   "cell_type": "markdown",
   "metadata": {},
   "source": [
    "### Get site location information"
   ]
  },
  {
   "cell_type": "markdown",
   "metadata": {},
   "source": [
    "Function to return the site location information for a list of site codes"
   ]
  },
  {
   "cell_type": "code",
   "execution_count": 4,
   "metadata": {
    "collapsed": true
   },
   "outputs": [],
   "source": [
    "def get_site_loc_info(site_code_list):\n",
    "    #construct string for postgreql WHERE condition based on input array\n",
    "    where_condition = ' OR '.join([\"sitecode = '\"+x+\"'\" for x in ssites.values()])\n",
    "    query = \"SELECT * FROM siteloc WHERE \" + where_condition\n",
    "    \n",
    "    # return results in pandas dataframe\n",
    "    return pd.read_sql_query(query, con=engine)   "
   ]
  },
  {
   "cell_type": "code",
   "execution_count": 5,
   "metadata": {
    "collapsed": false,
    "scrolled": true
   },
   "outputs": [
    {
     "name": "stdout",
     "output_type": "stream",
     "text": [
      "                     sitename        sitecode siteexists poldiv1 poldiv2  \\\n",
      "site_                                                                      \n",
      "44             Sanabria Marsh  ESP-08000-SANA       None     ESP      08   \n",
      "396                  Navarrés  ESP-11000-NAVA       None     ESP      11   \n",
      "486                San Rafael  ESP-01000-SANR       None     ESP      01   \n",
      "759          Albufera Alcudia  ESP-04000-ALBU       None     ESP      04   \n",
      "761            Laguna Guallar  ESP-02000-LAGU       None     ESP      02   \n",
      "784    Laguna Salada Chiprana  ESP-02000-LAGU       None     ESP      02   \n",
      "1252          Monte Areo mire  ESP-03000-AREO       None     ESP      03   \n",
      "\n",
      "      poldiv3  latdeg  latmin  latsec latns      latdd     latdms  londeg  \\\n",
      "site_                                                                       \n",
      "44        000      42       6       0     N  42.100000  42.06.00N       6   \n",
      "396       000      39       6       0     N  39.100000  39.06.00N       0   \n",
      "486       000      36      46      25     N  36.773611  36.46.25N       2   \n",
      "759       000      39      47      34     N  39.792778  39.47.34N       3   \n",
      "761       000      41      24       0     N  41.400000  41.24.00N       0   \n",
      "784       000      41      14       0     N  41.233333  41.14.00N       0   \n",
      "1252      000      43      31      44     N  43.528889  43.31.44N       5   \n",
      "\n",
      "       lonmin  lonsec lonew     londd      londms  elevation  areaofsite  \n",
      "site_                                                                     \n",
      "44         44       0     W -6.733333    6.44.00W       1050         NaN  \n",
      "396        41       0     W -0.683333    0.41.00W        225         1.5  \n",
      "486        36       5     W -2.601389    2.36.05W          0         NaN  \n",
      "759         7       9     E  3.119167    3.07.09E          0         NaN  \n",
      "761        13       0     W -0.216667    0.13.00W        336         9.2  \n",
      "784        10       0     W -0.166667    0.10.00W        150        23.0  \n",
      "1252       46       8     W -5.768889    5.46.08W        200         NaN  \n"
     ]
    }
   ],
   "source": [
    "site_loc_info = get_site_loc_info(ssites.values())\n",
    "site_loc_info.set_index('site_',inplace=True)\n",
    "print site_loc_info"
   ]
  },
  {
   "cell_type": "markdown",
   "metadata": {},
   "source": [
    "Note that site no. 784  Laguna Salada Chiprana seems to have same sitecode as site no. as our study site no. 761  Laguna Guallar. Let's drop this site to avoid confusion later on."
   ]
  },
  {
   "cell_type": "code",
   "execution_count": 6,
   "metadata": {
    "collapsed": false
   },
   "outputs": [
    {
     "name": "stdout",
     "output_type": "stream",
     "text": [
      "               sitename        sitecode siteexists poldiv1 poldiv2 poldiv3  \\\n",
      "site_                                                                        \n",
      "44       Sanabria Marsh  ESP-08000-SANA       None     ESP      08     000   \n",
      "396            Navarrés  ESP-11000-NAVA       None     ESP      11     000   \n",
      "486          San Rafael  ESP-01000-SANR       None     ESP      01     000   \n",
      "759    Albufera Alcudia  ESP-04000-ALBU       None     ESP      04     000   \n",
      "761      Laguna Guallar  ESP-02000-LAGU       None     ESP      02     000   \n",
      "1252    Monte Areo mire  ESP-03000-AREO       None     ESP      03     000   \n",
      "\n",
      "       latdeg  latmin  latsec latns      latdd     latdms  londeg  lonmin  \\\n",
      "site_                                                                       \n",
      "44         42       6       0     N  42.100000  42.06.00N       6      44   \n",
      "396        39       6       0     N  39.100000  39.06.00N       0      41   \n",
      "486        36      46      25     N  36.773611  36.46.25N       2      36   \n",
      "759        39      47      34     N  39.792778  39.47.34N       3       7   \n",
      "761        41      24       0     N  41.400000  41.24.00N       0      13   \n",
      "1252       43      31      44     N  43.528889  43.31.44N       5      46   \n",
      "\n",
      "       lonsec lonew     londd      londms  elevation  areaofsite  \n",
      "site_                                                             \n",
      "44          0     W -6.733333    6.44.00W       1050         NaN  \n",
      "396         0     W -0.683333    0.41.00W        225         1.5  \n",
      "486         5     W -2.601389    2.36.05W          0         NaN  \n",
      "759         9     E  3.119167    3.07.09E          0         NaN  \n",
      "761         0     W -0.216667    0.13.00W        336         9.2  \n",
      "1252        8     W -5.768889    5.46.08W        200         NaN  \n"
     ]
    }
   ],
   "source": [
    "site_loc_info.drop(784,inplace=True)\n",
    "print site_loc_info"
   ]
  },
  {
   "cell_type": "markdown",
   "metadata": {},
   "source": [
    "### Identify sediment cores associated with each site"
   ]
  },
  {
   "cell_type": "markdown",
   "metadata": {},
   "source": [
    "The EPD [documentation](http://www.europeanpollendatabase.net/data/downloads/image/pollen-database-manual-20071011.doc) explains that there are potentially multiple 'entities' associated with each site location. An 'entity' simply refers to a sediment core, section or surface sample.\n",
    "\n",
    "Define a function to return all entities (or cores) associated with a given site number:"
   ]
  },
  {
   "cell_type": "code",
   "execution_count": 7,
   "metadata": {
    "collapsed": true
   },
   "outputs": [],
   "source": [
    "def get_entity_info(site_number):\n",
    "    # query finds all fields from entity table for records \n",
    "    # matching given site_number.\n",
    "    query = \"SELECT * FROM entity WHERE site_ = {0}\".format(site_number)\n",
    "             \n",
    "    # return results in pandas dataframe\n",
    "    return pd.read_sql_query(query, con=engine)   "
   ]
  },
  {
   "cell_type": "markdown",
   "metadata": {},
   "source": [
    "Create a dataframe containing entity information for all study sites"
   ]
  },
  {
   "cell_type": "code",
   "execution_count": 8,
   "metadata": {
    "collapsed": false
   },
   "outputs": [],
   "source": [
    "ssite_numbers = site_loc_info.index\n",
    "for i in range(len(ssite_numbers)):\n",
    "    if i == 0:\n",
    "        site_entity_info = get_entity_info(ssite_numbers[i])\n",
    "    else:\n",
    "        site_entity_info = site_entity_info.append(get_entity_info(ssite_numbers[i]), ignore_index=True)\n",
    "site_entity_info.set_index('e_',inplace=True)"
   ]
  },
  {
   "cell_type": "code",
   "execution_count": 9,
   "metadata": {
    "collapsed": false
   },
   "outputs": [],
   "source": [
    "site_entity_info = site_entity_info.join(site_loc_info, on='site_', how='left')\n",
    "\n",
    "site_entity_info = site_entity_info.drop(['latns','latdd','latdms','londeg','lonmin',u'poldiv1',\n",
    "                      u'poldiv2',u'poldiv3',u'latdeg',u'latmin',u'latsec',\n",
    "                      u'lonsec', u'lonew', u'londd', u'londms', u'elevation', u'areaofsite',\n",
    "                      u'depthatloc', u'icethickcm', u'sampdevice', u'corediamcm',\n",
    "                      u'c14depthadj', u'notes','siteexists','localveg','hasanlam','coll_'],axis=1)"
   ]
  },
  {
   "cell_type": "code",
   "execution_count": 10,
   "metadata": {
    "collapsed": false
   },
   "outputs": [
    {
     "name": "stdout",
     "output_type": "stream",
     "text": [
      "      site_     sigle    name iscore issect isssamp descriptor  \\\n",
      "e_                                                               \n",
      "44       44  SANABRIA    None      Y      N       Y       PMSH   \n",
      "469     396     NAVA1  core 1      Y      N       Y       PMIR   \n",
      "470     396     NAVA2  core 2      Y      N       Y       PMIR   \n",
      "471     396  NAVARRE3    None      Y      N       Y       UNKN   \n",
      "574     486   SANRAFA    None      Y      N       Y       MCOA   \n",
      "891     759   ALCUDIA    None      Y      N       Y       MCOA   \n",
      "893     761     N-GUA  core 1      Y      N       Y       LNPL   \n",
      "1562   1252      AREO    None      Y      N       N       PMIR   \n",
      "\n",
      "                     entloc    sampdate          sitename        sitecode  \n",
      "e_                                                                         \n",
      "44                     None  1981-05-00    Sanabria Marsh  ESP-08000-SANA  \n",
      "469        Center of valley  1993-06-15          Navarrés  ESP-11000-NAVA  \n",
      "470        Center of valley  1993-06-15          Navarrés  ESP-11000-NAVA  \n",
      "471        Center of valley  1997-00-00          Navarrés  ESP-11000-NAVA  \n",
      "574         East of Almeria  1994-00-00        San Rafael  ESP-01000-SANR  \n",
      "891   NE of Mallorca island  1992-00-00  Albufera Alcudia  ESP-04000-ALBU  \n",
      "893             Lake centre  1991-07-14    Laguna Guallar  ESP-02000-LAGU  \n",
      "1562   mire near Gijón city  0000-00-00   Monte Areo mire  ESP-03000-AREO  \n"
     ]
    }
   ],
   "source": [
    "print site_entity_info "
   ]
  },
  {
   "cell_type": "markdown",
   "metadata": {},
   "source": [
    "Noting the multiple entities for Navares (site 396), I searched the EPD for publications relating to Navares entities:"
   ]
  },
  {
   "cell_type": "code",
   "execution_count": 66,
   "metadata": {
    "collapsed": false
   },
   "outputs": [
    {
     "data": {
      "text/html": [
       "<div>\n",
       "<table border=\"1\" class=\"dataframe\">\n",
       "  <thead>\n",
       "    <tr style=\"text-align: right;\">\n",
       "      <th></th>\n",
       "      <th>e_</th>\n",
       "      <th>publ_</th>\n",
       "      <th>citation</th>\n",
       "    </tr>\n",
       "  </thead>\n",
       "  <tbody>\n",
       "    <tr>\n",
       "      <th>0</th>\n",
       "      <td>469</td>\n",
       "      <td>134</td>\n",
       "      <td>Carrión, J.S., and M. Dupré-Olivier. 1996. Lat...</td>\n",
       "    </tr>\n",
       "    <tr>\n",
       "      <th>1</th>\n",
       "      <td>470</td>\n",
       "      <td>134</td>\n",
       "      <td>Carrión, J.S., and M. Dupré-Olivier. 1996. Lat...</td>\n",
       "    </tr>\n",
       "    <tr>\n",
       "      <th>2</th>\n",
       "      <td>471</td>\n",
       "      <td>133</td>\n",
       "      <td>Carrión, J.S., and B. van Geel. 1999. Fine-res...</td>\n",
       "    </tr>\n",
       "  </tbody>\n",
       "</table>\n",
       "</div>"
      ],
      "text/plain": [
       "    e_  publ_                                           citation\n",
       "0  469    134  Carrión, J.S., and M. Dupré-Olivier. 1996. Lat...\n",
       "1  470    134  Carrión, J.S., and M. Dupré-Olivier. 1996. Lat...\n",
       "2  471    133  Carrión, J.S., and B. van Geel. 1999. Fine-res..."
      ]
     },
     "execution_count": 66,
     "metadata": {},
     "output_type": "execute_result"
    }
   ],
   "source": [
    "pd.read_sql_query(\"\"\"SELECT publent.e_, publent.publ_,publ.citation\n",
    "                     FROM publ \n",
    "                     INNER JOIN publent\n",
    "                     ON publ.publ_=publent.publ_\n",
    "                     WHERE e_=469 OR e_=470 OR e_=471\n",
    "                     ORDER BY publent.e_;\"\"\", con=engine)"
   ]
  },
  {
   "cell_type": "markdown",
   "metadata": {},
   "source": [
    "We find entities 469 and 470 come from a [1996 paper](http://onlinelibrary.wiley.com/doi/10.1111/j.1469-8137.1996.tb01157.x/abstract;jsessionid=5DEA525DEED061D4D29979D7C2AEFCCD.f02t02) in which the authors discuss both:\n",
    "- A comparison of the palynological results produced by two separate cores extracted 5m apart from each other. \n",
    "- The role of humans in causing an observed switch from /Pinus/ to /Quercus/. \n",
    "These cores cover the temporal range 20700 to 3075 yr BP.\n",
    "\n",
    "The entity 471, NAVARRE3, relates to a [1999 paper](https://www.researchgate.net/publication/222507129_Fine-resolution_Upper_Weichselian_and_Holocene_palynological_record_from_Navarres_Valencia_Spain_and_a_discussion_about_factors_of_Mediterranean_forest_succession) featuring a finer temporal resolution analysis and -- according to the paper -- charcoal analysis. However, this charcoal data does not seem to have been made available (either in the EPD or Neotoma, using nav <- get_site('Navarrés'), dat <- get_dataset(nav)) and the temporal range covered is 30900 to 3160 yr BP. \n",
    "\n",
    "The possibility of comparing results between cores at the same site and the more detailed discussion about human drivers in the 1996 paper have led me to focus on the entities 469 and 470 (NAVA1 and NAVA2 respectively) for the purpose of this analysis. \n",
    "\n",
    "I will therefore drop entity 471 (NAVARRE3) from the `site_entity_info` dataframe. "
   ]
  },
  {
   "cell_type": "code",
   "execution_count": 67,
   "metadata": {
    "collapsed": true
   },
   "outputs": [],
   "source": [
    "site_entity_info = site_entity_info.drop([471])"
   ]
  },
  {
   "cell_type": "code",
   "execution_count": 68,
   "metadata": {
    "collapsed": false
   },
   "outputs": [
    {
     "name": "stdout",
     "output_type": "stream",
     "text": [
      "      site_     sigle    name iscore issect isssamp descriptor  \\\n",
      "e_                                                               \n",
      "44       44  SANABRIA    None      Y      N       Y       PMSH   \n",
      "469     396     NAVA1  core 1      Y      N       Y       PMIR   \n",
      "470     396     NAVA2  core 2      Y      N       Y       PMIR   \n",
      "574     486   SANRAFA    None      Y      N       Y       MCOA   \n",
      "891     759   ALCUDIA    None      Y      N       Y       MCOA   \n",
      "893     761     N-GUA  core 1      Y      N       Y       LNPL   \n",
      "1562   1252      AREO    None      Y      N       N       PMIR   \n",
      "\n",
      "                     entloc    sampdate          sitename        sitecode  \n",
      "e_                                                                         \n",
      "44                     None  1981-05-00    Sanabria Marsh  ESP-08000-SANA  \n",
      "469        Center of valley  1993-06-15          Navarrés  ESP-11000-NAVA  \n",
      "470        Center of valley  1993-06-15          Navarrés  ESP-11000-NAVA  \n",
      "574         East of Almeria  1994-00-00        San Rafael  ESP-01000-SANR  \n",
      "891   NE of Mallorca island  1992-00-00  Albufera Alcudia  ESP-04000-ALBU  \n",
      "893             Lake centre  1991-07-14    Laguna Guallar  ESP-02000-LAGU  \n",
      "1562   mire near Gijón city  0000-00-00   Monte Areo mire  ESP-03000-AREO  \n"
     ]
    }
   ],
   "source": [
    "print site_entity_info"
   ]
  },
  {
   "cell_type": "markdown",
   "metadata": {},
   "source": [
    "### Get pollen counts"
   ]
  },
  {
   "cell_type": "markdown",
   "metadata": {},
   "source": [
    "Function which extracts pollen count data for a given entity (i.e. sediment core) number and joins it to the p_vars table to incorporate species data useful to subsequent analysis."
   ]
  },
  {
   "cell_type": "code",
   "execution_count": 69,
   "metadata": {
    "collapsed": true
   },
   "outputs": [],
   "source": [
    "def get_p_count(entity):\n",
    "    query=\"\"\"SELECT p_counts.e_,p_counts.sample_,p_counts.var_,\n",
    "             p_counts.count,p_vars.varcode,p_vars.varname \n",
    "             FROM p_counts\n",
    "             LEFT JOIN p_vars\n",
    "             ON p_counts.var_=p_vars.var_\n",
    "             WHERE p_counts.e_={0};\"\"\".format(entity)\n",
    "    return pd.read_sql_query(query, con=engine)   "
   ]
  },
  {
   "cell_type": "markdown",
   "metadata": {},
   "source": [
    "Example of output for the San Rafael entitity (number 574)"
   ]
  },
  {
   "cell_type": "code",
   "execution_count": 70,
   "metadata": {
    "collapsed": false
   },
   "outputs": [
    {
     "data": {
      "text/html": [
       "<div>\n",
       "<table border=\"1\" class=\"dataframe\">\n",
       "  <thead>\n",
       "    <tr style=\"text-align: right;\">\n",
       "      <th></th>\n",
       "      <th>e_</th>\n",
       "      <th>sample_</th>\n",
       "      <th>var_</th>\n",
       "      <th>count</th>\n",
       "      <th>varcode</th>\n",
       "      <th>varname</th>\n",
       "    </tr>\n",
       "  </thead>\n",
       "  <tbody>\n",
       "    <tr>\n",
       "      <th>0</th>\n",
       "      <td>574</td>\n",
       "      <td>1</td>\n",
       "      <td>66</td>\n",
       "      <td>27.0</td>\n",
       "      <td>Art</td>\n",
       "      <td>Artemisia</td>\n",
       "    </tr>\n",
       "    <tr>\n",
       "      <th>1</th>\n",
       "      <td>574</td>\n",
       "      <td>1</td>\n",
       "      <td>95</td>\n",
       "      <td>1.0</td>\n",
       "      <td>Bet</td>\n",
       "      <td>Betula</td>\n",
       "    </tr>\n",
       "    <tr>\n",
       "      <th>2</th>\n",
       "      <td>574</td>\n",
       "      <td>1</td>\n",
       "      <td>165</td>\n",
       "      <td>2.0</td>\n",
       "      <td>Crl-T</td>\n",
       "      <td>Cerealia-type</td>\n",
       "    </tr>\n",
       "    <tr>\n",
       "      <th>3</th>\n",
       "      <td>574</td>\n",
       "      <td>1</td>\n",
       "      <td>185</td>\n",
       "      <td>108.0</td>\n",
       "      <td>Cheae</td>\n",
       "      <td>Chenopodiaceae</td>\n",
       "    </tr>\n",
       "    <tr>\n",
       "      <th>4</th>\n",
       "      <td>574</td>\n",
       "      <td>1</td>\n",
       "      <td>196</td>\n",
       "      <td>1.0</td>\n",
       "      <td>Ciu</td>\n",
       "      <td>Cistus</td>\n",
       "    </tr>\n",
       "  </tbody>\n",
       "</table>\n",
       "</div>"
      ],
      "text/plain": [
       "    e_  sample_  var_  count varcode         varname\n",
       "0  574        1    66   27.0     Art       Artemisia\n",
       "1  574        1    95    1.0     Bet          Betula\n",
       "2  574        1   165    2.0   Crl-T   Cerealia-type\n",
       "3  574        1   185  108.0   Cheae  Chenopodiaceae\n",
       "4  574        1   196    1.0     Ciu          Cistus"
      ]
     },
     "execution_count": 70,
     "metadata": {},
     "output_type": "execute_result"
    }
   ],
   "source": [
    "get_p_count(574).head()"
   ]
  },
  {
   "cell_type": "markdown",
   "metadata": {},
   "source": [
    "Write pollen count data to file for each of the entities identified in the `site_entity_info` dataframe."
   ]
  },
  {
   "cell_type": "code",
   "execution_count": 71,
   "metadata": {
    "collapsed": false
   },
   "outputs": [],
   "source": [
    "for e in site_entity_info.index:\n",
    "    e_dat = site_entity_info.loc[e]\n",
    "    # construct file name string using data from site_entity_info dataframe\n",
    "    s = 'e'+str(e)+'_s'+str(e_dat.site_)+'_'+e_dat.sitename.replace(' ','_').replace(u'é','e')+\\\n",
    "        '_pcounts.csv'\n",
    "        \n",
    "    p_dat = get_p_count(e) # dataframe containing pollen count data for entity\n",
    "    p_dat.drop('e_',axis=1).to_csv(os.path.join('data',s),index=False)"
   ]
  },
  {
   "cell_type": "markdown",
   "metadata": {},
   "source": [
    "To avoid needing to access the database to work with this data in future, we define a function to load pollen count data from the `.csv` files produced in the previous step."
   ]
  },
  {
   "cell_type": "code",
   "execution_count": 72,
   "metadata": {
    "collapsed": false
   },
   "outputs": [],
   "source": [
    "def get_p_count_from_file(entity):\n",
    "    file_candidates=[]\n",
    "    all_files=os.listdir('data') #list of all files in data directory\n",
    "    for f_name in all_files:\n",
    "        name_components=f_name.split('_') #split on underscores in file names\n",
    "        if (name_components[0]=='e'+str(entity) #check files for entity number\n",
    "            and name_components[-1]=='pcounts.csv'): #check corresponds to pollen counts\n",
    "            file_candidates.append(f_name) #add to list of possible files\n",
    "            \n",
    "    if len(file_candidates) == 0:\n",
    "        print \"\"\"No files found. Check pollen data file exists and entity number correct.\"\"\"\n",
    "    elif len(file_candidates) > 1:\n",
    "        print \"\"\"Pollen data file not uniquely identified using entity number. Check data files\"\"\"\n",
    "    else:\n",
    "        try:\n",
    "            dat=pd.read_csv(os.path.join('data',file_candidates[0]))\n",
    "            print \"pollen file for entity {0} read.\".format(entity)\n",
    "            dat['_e']=entity # reinstate entity number column (removed in file write)\n",
    "            return dat\n",
    "        \n",
    "        except IOError as e:\n",
    "            print \"\"\"Unique pollen file for entity {0} found but couldn't be read\\n\n",
    "            IO Error: {1}\"\"\".format(entity, e)"
   ]
  },
  {
   "cell_type": "code",
   "execution_count": 73,
   "metadata": {
    "collapsed": false
   },
   "outputs": [
    {
     "name": "stdout",
     "output_type": "stream",
     "text": [
      "pollen file for entity 574 read.\n"
     ]
    },
    {
     "data": {
      "text/html": [
       "<div>\n",
       "<table border=\"1\" class=\"dataframe\">\n",
       "  <thead>\n",
       "    <tr style=\"text-align: right;\">\n",
       "      <th></th>\n",
       "      <th>sample_</th>\n",
       "      <th>var_</th>\n",
       "      <th>count</th>\n",
       "      <th>varcode</th>\n",
       "      <th>varname</th>\n",
       "      <th>_e</th>\n",
       "    </tr>\n",
       "  </thead>\n",
       "  <tbody>\n",
       "    <tr>\n",
       "      <th>0</th>\n",
       "      <td>1</td>\n",
       "      <td>66</td>\n",
       "      <td>27.0</td>\n",
       "      <td>Art</td>\n",
       "      <td>Artemisia</td>\n",
       "      <td>574</td>\n",
       "    </tr>\n",
       "    <tr>\n",
       "      <th>1</th>\n",
       "      <td>1</td>\n",
       "      <td>95</td>\n",
       "      <td>1.0</td>\n",
       "      <td>Bet</td>\n",
       "      <td>Betula</td>\n",
       "      <td>574</td>\n",
       "    </tr>\n",
       "    <tr>\n",
       "      <th>2</th>\n",
       "      <td>1</td>\n",
       "      <td>165</td>\n",
       "      <td>2.0</td>\n",
       "      <td>Crl-T</td>\n",
       "      <td>Cerealia-type</td>\n",
       "      <td>574</td>\n",
       "    </tr>\n",
       "    <tr>\n",
       "      <th>3</th>\n",
       "      <td>1</td>\n",
       "      <td>185</td>\n",
       "      <td>108.0</td>\n",
       "      <td>Cheae</td>\n",
       "      <td>Chenopodiaceae</td>\n",
       "      <td>574</td>\n",
       "    </tr>\n",
       "    <tr>\n",
       "      <th>4</th>\n",
       "      <td>1</td>\n",
       "      <td>196</td>\n",
       "      <td>1.0</td>\n",
       "      <td>Ciu</td>\n",
       "      <td>Cistus</td>\n",
       "      <td>574</td>\n",
       "    </tr>\n",
       "  </tbody>\n",
       "</table>\n",
       "</div>"
      ],
      "text/plain": [
       "   sample_  var_  count varcode         varname   _e\n",
       "0        1    66   27.0     Art       Artemisia  574\n",
       "1        1    95    1.0     Bet          Betula  574\n",
       "2        1   165    2.0   Crl-T   Cerealia-type  574\n",
       "3        1   185  108.0   Cheae  Chenopodiaceae  574\n",
       "4        1   196    1.0     Ciu          Cistus  574"
      ]
     },
     "execution_count": 73,
     "metadata": {},
     "output_type": "execute_result"
    }
   ],
   "source": [
    "get_p_count_from_file(574).head()"
   ]
  },
  {
   "cell_type": "markdown",
   "metadata": {},
   "source": [
    "### Get chronology for samples"
   ]
  },
  {
   "cell_type": "markdown",
   "metadata": {},
   "source": [
    "Chronologies apply to /samples/ within entities (cores). These chronologies are the results of models which are used to interpolate the age of all samples in a given core based on C14 testing of a subset of those samples.\n",
    "\n",
    "For some cores there are multiple chronologies supplied in the EPD. In these instances, the chronology which is marked as **default** in the database is the one which is extracted (see [documentation](http://www.europeanpollendatabase.net/data/downloads/image/pollen-database-manual-20071011.doc) for details).\n",
    "\n",
    "Information about chronologies for each core is provided in the `chron` table. The inferred fitted chronology for pollen samples is contained in the `p_adedpt` table.\n",
    "\n",
    "Additionally, we can find the dates corresponding to the samples which were actually tested in the `c14` table, but this will not enter into our analyses here.\n",
    "\n",
    "We now define a function for extracting the fitted chronology for a given entity:"
   ]
  },
  {
   "cell_type": "code",
   "execution_count": 74,
   "metadata": {
    "collapsed": false
   },
   "outputs": [],
   "source": [
    "def get_chronology(entity):\n",
    "    # get id of database default chronology for selected entity\n",
    "    def_chron_no=pd.read_sql_query(\"SELECT chron_ FROM chron WHERE e_={0} AND defaultchron='Y'\".format(entity), \n",
    "                                   con=engine)['chron_'].values[0]  \n",
    "    \n",
    "    query = \"SELECT * FROM p_agedpt WHERE e_={0} AND chron_={1}\".format(entity,def_chron_no)\n",
    "    return pd.read_sql_query(query,con=engine).drop(['chron_'],axis=1)\n"
   ]
  },
  {
   "cell_type": "markdown",
   "metadata": {},
   "source": [
    "Sample output for Laguna Guallar (entity 893)"
   ]
  },
  {
   "cell_type": "code",
   "execution_count": 75,
   "metadata": {
    "collapsed": false
   },
   "outputs": [
    {
     "data": {
      "text/html": [
       "<div>\n",
       "<table border=\"1\" class=\"dataframe\">\n",
       "  <thead>\n",
       "    <tr style=\"text-align: right;\">\n",
       "      <th></th>\n",
       "      <th>e_</th>\n",
       "      <th>sample_</th>\n",
       "      <th>agebp</th>\n",
       "      <th>ageup</th>\n",
       "      <th>agelo</th>\n",
       "      <th>deptime</th>\n",
       "    </tr>\n",
       "  </thead>\n",
       "  <tbody>\n",
       "    <tr>\n",
       "      <th>0</th>\n",
       "      <td>893</td>\n",
       "      <td>1</td>\n",
       "      <td>0.0</td>\n",
       "      <td>None</td>\n",
       "      <td>None</td>\n",
       "      <td>None</td>\n",
       "    </tr>\n",
       "    <tr>\n",
       "      <th>1</th>\n",
       "      <td>893</td>\n",
       "      <td>2</td>\n",
       "      <td>982.0</td>\n",
       "      <td>None</td>\n",
       "      <td>None</td>\n",
       "      <td>None</td>\n",
       "    </tr>\n",
       "    <tr>\n",
       "      <th>2</th>\n",
       "      <td>893</td>\n",
       "      <td>3</td>\n",
       "      <td>1963.0</td>\n",
       "      <td>None</td>\n",
       "      <td>None</td>\n",
       "      <td>None</td>\n",
       "    </tr>\n",
       "    <tr>\n",
       "      <th>3</th>\n",
       "      <td>893</td>\n",
       "      <td>4</td>\n",
       "      <td>2945.0</td>\n",
       "      <td>None</td>\n",
       "      <td>None</td>\n",
       "      <td>None</td>\n",
       "    </tr>\n",
       "    <tr>\n",
       "      <th>4</th>\n",
       "      <td>893</td>\n",
       "      <td>5</td>\n",
       "      <td>3927.0</td>\n",
       "      <td>None</td>\n",
       "      <td>None</td>\n",
       "      <td>None</td>\n",
       "    </tr>\n",
       "  </tbody>\n",
       "</table>\n",
       "</div>"
      ],
      "text/plain": [
       "    e_  sample_   agebp ageup agelo deptime\n",
       "0  893        1     0.0  None  None    None\n",
       "1  893        2   982.0  None  None    None\n",
       "2  893        3  1963.0  None  None    None\n",
       "3  893        4  2945.0  None  None    None\n",
       "4  893        5  3927.0  None  None    None"
      ]
     },
     "execution_count": 75,
     "metadata": {},
     "output_type": "execute_result"
    }
   ],
   "source": [
    "get_chronology(893).head()"
   ]
  },
  {
   "cell_type": "markdown",
   "metadata": {},
   "source": [
    "Write chronologies for each entity to data folder"
   ]
  },
  {
   "cell_type": "code",
   "execution_count": 76,
   "metadata": {
    "collapsed": true
   },
   "outputs": [],
   "source": [
    "for e in site_entity_info.index:\n",
    "    e_dat = site_entity_info.loc[e]\n",
    "    # construct file name string using data from site_entity_info dataframe\n",
    "    s = 'e'+str(e)+'_s'+str(e_dat.site_)+'_'+e_dat.sitename.replace(' ','_').replace(u'é','e')+\\\n",
    "        '_chron.csv'\n",
    "        \n",
    "    p_dat = get_chronology(e) # dataframe containing chronology data for entity\n",
    "    p_dat.drop('e_',axis=1).to_csv(os.path.join('data',s),index=False)"
   ]
  },
  {
   "cell_type": "markdown",
   "metadata": {},
   "source": [
    "To avoid needing to access the database to work with this data in future, we define a function to load chronology data from the .csv files produced in the previous step."
   ]
  },
  {
   "cell_type": "code",
   "execution_count": 77,
   "metadata": {
    "collapsed": true
   },
   "outputs": [],
   "source": [
    "def get_chronology_from_file(entity):\n",
    "    file_candidates=[]\n",
    "    all_files=os.listdir('data') #list of all files in data directory\n",
    "    for f_name in all_files:\n",
    "        name_components=f_name.split('_') #split on underscores in file names\n",
    "        if (name_components[0]=='e'+str(entity) #check files for entity number\n",
    "            and name_components[-1]=='chron.csv'): #check corresponds to pollen counts\n",
    "            file_candidates.append(f_name) #add to list of possible files\n",
    "            \n",
    "    if len(file_candidates) == 0:\n",
    "        print \"\"\"No files found. Check chronology data file exists and entity number correct.\"\"\"\n",
    "    elif len(file_candidates) > 1:\n",
    "        print \"\"\"Chronology data file not uniquely identified using entity number. Check data files\"\"\"\n",
    "    else:\n",
    "        try:\n",
    "            dat=pd.read_csv(os.path.join('data',file_candidates[0]))\n",
    "            print \"Chronology file for entity {0} read.\".format(entity)\n",
    "            dat['_e']=entity # reinstate entity number column (removed in file write)\n",
    "            return dat\n",
    "        \n",
    "        except IOError as e:\n",
    "            print \"\"\"Unique chronology file for entity {0} found but couldn't be read\\n\n",
    "            IO Error: {1}\"\"\".format(entity, e)"
   ]
  },
  {
   "cell_type": "markdown",
   "metadata": {},
   "source": [
    "Test loading chronology data for entity 893 from file:"
   ]
  },
  {
   "cell_type": "code",
   "execution_count": 78,
   "metadata": {
    "collapsed": false
   },
   "outputs": [
    {
     "name": "stdout",
     "output_type": "stream",
     "text": [
      "Chronology file for entity 893 read.\n"
     ]
    },
    {
     "data": {
      "text/html": [
       "<div>\n",
       "<table border=\"1\" class=\"dataframe\">\n",
       "  <thead>\n",
       "    <tr style=\"text-align: right;\">\n",
       "      <th></th>\n",
       "      <th>sample_</th>\n",
       "      <th>agebp</th>\n",
       "      <th>ageup</th>\n",
       "      <th>agelo</th>\n",
       "      <th>deptime</th>\n",
       "      <th>_e</th>\n",
       "    </tr>\n",
       "  </thead>\n",
       "  <tbody>\n",
       "    <tr>\n",
       "      <th>0</th>\n",
       "      <td>1</td>\n",
       "      <td>0.0</td>\n",
       "      <td>NaN</td>\n",
       "      <td>NaN</td>\n",
       "      <td>NaN</td>\n",
       "      <td>893</td>\n",
       "    </tr>\n",
       "    <tr>\n",
       "      <th>1</th>\n",
       "      <td>2</td>\n",
       "      <td>982.0</td>\n",
       "      <td>NaN</td>\n",
       "      <td>NaN</td>\n",
       "      <td>NaN</td>\n",
       "      <td>893</td>\n",
       "    </tr>\n",
       "    <tr>\n",
       "      <th>2</th>\n",
       "      <td>3</td>\n",
       "      <td>1963.0</td>\n",
       "      <td>NaN</td>\n",
       "      <td>NaN</td>\n",
       "      <td>NaN</td>\n",
       "      <td>893</td>\n",
       "    </tr>\n",
       "    <tr>\n",
       "      <th>3</th>\n",
       "      <td>4</td>\n",
       "      <td>2945.0</td>\n",
       "      <td>NaN</td>\n",
       "      <td>NaN</td>\n",
       "      <td>NaN</td>\n",
       "      <td>893</td>\n",
       "    </tr>\n",
       "    <tr>\n",
       "      <th>4</th>\n",
       "      <td>5</td>\n",
       "      <td>3927.0</td>\n",
       "      <td>NaN</td>\n",
       "      <td>NaN</td>\n",
       "      <td>NaN</td>\n",
       "      <td>893</td>\n",
       "    </tr>\n",
       "  </tbody>\n",
       "</table>\n",
       "</div>"
      ],
      "text/plain": [
       "   sample_   agebp  ageup  agelo  deptime   _e\n",
       "0        1     0.0    NaN    NaN      NaN  893\n",
       "1        2   982.0    NaN    NaN      NaN  893\n",
       "2        3  1963.0    NaN    NaN      NaN  893\n",
       "3        4  2945.0    NaN    NaN      NaN  893\n",
       "4        5  3927.0    NaN    NaN      NaN  893"
      ]
     },
     "execution_count": 78,
     "metadata": {},
     "output_type": "execute_result"
    }
   ],
   "source": [
    "get_chronology_from_file(893).head()"
   ]
  },
  {
   "cell_type": "markdown",
   "metadata": {},
   "source": [
    "### Assess which taxa should be plotted in visualisations\n",
    "Consider the pollen count data from entity 44, the sediment core from Sanabria Marsh:"
   ]
  },
  {
   "cell_type": "code",
   "execution_count": 79,
   "metadata": {
    "collapsed": false
   },
   "outputs": [
    {
     "name": "stdout",
     "output_type": "stream",
     "text": [
      "pollen file for entity 44 read.\n",
      "   sample_  var_  count varcode           varname  _e\n",
      "0        1     1    1.0     Abi             Abies  44\n",
      "1        1    32    7.0     Aln             Alnus  44\n",
      "2        1    66    3.0     Art         Artemisia  44\n",
      "3        1    95    4.0     Bet            Betula  44\n",
      "4        1   124   10.0   Cal.v  Calluna vulgaris  44\n"
     ]
    }
   ],
   "source": [
    "SAN_p = get_p_count_from_file(44)\n",
    "print SAN_p.head()"
   ]
  },
  {
   "cell_type": "markdown",
   "metadata": {},
   "source": [
    "The number of species identified from their pollen in this core is given by"
   ]
  },
  {
   "cell_type": "code",
   "execution_count": 80,
   "metadata": {
    "collapsed": false
   },
   "outputs": [
    {
     "data": {
      "text/plain": [
       "'The number of species identified from their pollen in this core is 94.'"
      ]
     },
     "execution_count": 80,
     "metadata": {},
     "output_type": "execute_result"
    }
   ],
   "source": [
    "\"The number of species identified from their pollen in this core is {0}.\".format(len(SAN_p.groupby('varname').count().index))"
   ]
  },
  {
   "cell_type": "markdown",
   "metadata": {},
   "source": [
    "Clearly this is too many for us to be able to plot them all coherently on a single graph. Therefore we will need to _aggregate_ the data by grouping species together in a principled way, and/ or by choosing not to plot some species altogether.\n",
    "\n",
    "First, we obtain a list of all taxa which have been identified in the cores we are considering as listed in the `site_entity_info` table. "
   ]
  },
  {
   "cell_type": "code",
   "execution_count": 82,
   "metadata": {
    "collapsed": false
   },
   "outputs": [
    {
     "data": {
      "text/plain": [
       "Int64Index([44, 469, 470, 574, 891, 893, 1562], dtype='int64', name=u'e_')"
      ]
     },
     "execution_count": 82,
     "metadata": {},
     "output_type": "execute_result"
    }
   ],
   "source": [
    "site_entity_info.index"
   ]
  },
  {
   "cell_type": "code",
   "execution_count": 87,
   "metadata": {
    "collapsed": false
   },
   "outputs": [
    {
     "name": "stdout",
     "output_type": "stream",
     "text": [
      "pollen file for entity 44 read.\n",
      "pollen file for entity 469 read.\n",
      "pollen file for entity 470 read.\n",
      "pollen file for entity 574 read.\n",
      "pollen file for entity 891 read.\n",
      "pollen file for entity 893 read.\n",
      "pollen file for entity 1562 read.\n"
     ]
    }
   ],
   "source": [
    "entity_numbers = site_entity_info.index\n",
    "# go through all entities, load pollen data from file\n",
    "# and append into one dataframe called all_pollen_data\n",
    "for i in range(len(entity_numbers)):\n",
    "    if i == 0:\n",
    "        all_pollen_data = get_p_count_from_file(entity_numbers[i])\n",
    "    else:\n",
    "        all_pollen_data = all_pollen_data.append(get_p_count_from_file(entity_numbers[i]), ignore_index=True)"
   ]
  },
  {
   "cell_type": "code",
   "execution_count": 89,
   "metadata": {
    "collapsed": false
   },
   "outputs": [
    {
     "name": "stdout",
     "output_type": "stream",
     "text": [
      "   sample_  var_  count varcode           varname  _e\n",
      "0        1     1    1.0     Abi             Abies  44\n",
      "1        1    32    7.0     Aln             Alnus  44\n",
      "2        1    66    3.0     Art         Artemisia  44\n",
      "3        1    95    4.0     Bet            Betula  44\n",
      "4        1   124   10.0   Cal.v  Calluna vulgaris  44\n",
      "\n",
      "       sample_  var_  count   varcode                      varname    _e\n",
      "10119       55  3028   68.0     Eri-T                   Erica-type  1562\n",
      "10120       55  3462   25.0      T114                     Type 114  1562\n",
      "10121       55  3911   23.0  Flc.m.ud  Filicales monoletes undiff.  1562\n",
      "10122       55  4274    3.0  Spi.cf.s   Spirogyra cf. scrobiculata  1562\n",
      "10123       55  4366   81.0  Que.py-T       Quercus pyrenaica-type  1562\n"
     ]
    }
   ],
   "source": [
    "print all_pollen_data.head()\n",
    "print \"\"\n",
    "print all_pollen_data.tail()"
   ]
  },
  {
   "cell_type": "markdown",
   "metadata": {},
   "source": [
    "Group by varcode and varname to obtain a list of unique values"
   ]
  },
  {
   "cell_type": "code",
   "execution_count": 100,
   "metadata": {
    "collapsed": false
   },
   "outputs": [
    {
     "name": "stdout",
     "output_type": "stream",
     "text": [
      "  varcode            varname\n",
      "1     Abi              Abies\n",
      "2     Ace               Acer\n",
      "3     Alc         Alchemilla\n",
      "4     Aln              Alnus\n",
      "5   Amp.f  Amphitrema flavum\n",
      "\n",
      "A total of 244 species identified across all 7 cores considered.\n"
     ]
    }
   ],
   "source": [
    "all_codes_names = all_pollen_data.groupby(['varcode','varname']).count().reset_index()[['varcode','varname']]\n",
    "all_codes_names=all_codes_names.sort_values('varname')\n",
    "print all_codes_names.head()\n",
    "print \"\"\n",
    "print \"A total of {0} species identified across all 7 cores considered.\".format(len(all_codes_names.index))"
   ]
  },
  {
   "cell_type": "markdown",
   "metadata": {},
   "source": [
    "Write this list to a .csv file. This file can then be opened in a spreadsheet to be easily annotated. We will then read this back into this notebook."
   ]
  },
  {
   "cell_type": "code",
   "execution_count": 101,
   "metadata": {
    "collapsed": true
   },
   "outputs": [],
   "source": [
    "all_codes_names.to_csv('all_species_unannotated.csv',index=False)"
   ]
  },
  {
   "cell_type": "code",
   "execution_count": 103,
   "metadata": {
    "collapsed": false
   },
   "outputs": [
    {
     "name": "stdout",
     "output_type": "stream",
     "text": [
      "      varcode                   varname include  \\\n",
      "3         Aln                     Alnus       Y   \n",
      "30        Cas                  Castanea       Y   \n",
      "35        Crl                  Cerealia       Y   \n",
      "36      Crl-T             Cerealia-type       Y   \n",
      "69      Eriae                 Ericaceae       Y   \n",
      "76        Fag                     Fagus       Y   \n",
      "83        Frx                  Fraxinus       Y   \n",
      "146       Pin                     Pinus       Y   \n",
      "147     Pis.p            Pinus pinaster       Y   \n",
      "148   Pin.s-T     Pinus sylvestris-type       Y   \n",
      "150       Pla                  Plantago       Y   \n",
      "151   Pla.c-T   Plantago coronopus-type       Y   \n",
      "152   Pla.l-T  Plantago lanceolata-type       Y   \n",
      "153   Pla.m/m   Plantago major/P. media       Y   \n",
      "154    Pla.ud          Plantago undiff.       Y   \n",
      "170       Que                   Quercus       Y   \n",
      "171     Que.i              Quercus ilex       Y   \n",
      "172   Que.i-T         Quercus ilex-type       Y   \n",
      "173  Que.py-T    Quercus pyrenaica-type       Y   \n",
      "174   Que.r-T        Quercus robur-type       Y   \n",
      "175     Que.s             Quercus suber       Y   \n",
      "\n",
      "                                               comment  \n",
      "3    deciduous tree, indicator of expected holocene...  \n",
      "30                                cultivated by humans  \n",
      "35                                    anthro indicator  \n",
      "36                                    anthro indicator  \n",
      "69   scrub, indicator of landscape opening (Carrion...  \n",
      "76   deciduous tree, indicator of expected holocene...  \n",
      "83   deciduous tree, indicator of expected holocene...  \n",
      "146                               seeder vs resprouter  \n",
      "147                               seeder vs resprouter  \n",
      "148                               seeder vs resprouter  \n",
      "150           indicator of open space, anthro clearing  \n",
      "151           indicator of open space, anthro clearing  \n",
      "152           indicator of open space, anthro clearing  \n",
      "153           indicator of open space, anthro clearing  \n",
      "154           indicator of open space, anthro clearing  \n",
      "170                               seeder vs resprouter  \n",
      "171                               seeder vs resprouter  \n",
      "172                               seeder vs resprouter  \n",
      "173                               seeder vs resprouter  \n",
      "174                               seeder vs resprouter  \n",
      "175                               seeder vs resprouter  \n"
     ]
    }
   ],
   "source": [
    "species_table = pd.read_csv('all_species_annotated.csv')\n",
    "print species_table.dropna()"
   ]
  },
  {
   "cell_type": "code",
   "execution_count": null,
   "metadata": {
    "collapsed": true
   },
   "outputs": [],
   "source": []
  }
 ],
 "metadata": {
  "anaconda-cloud": {},
  "kernelspec": {
   "display_name": "Python [conda root]",
   "language": "python",
   "name": "conda-root-py"
  },
  "language_info": {
   "codemirror_mode": {
    "name": "ipython",
    "version": 2
   },
   "file_extension": ".py",
   "mimetype": "text/x-python",
   "name": "python",
   "nbconvert_exporter": "python",
   "pygments_lexer": "ipython2",
   "version": "2.7.12"
  }
 },
 "nbformat": 4,
 "nbformat_minor": 1
}
