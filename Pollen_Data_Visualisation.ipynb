{
 "cells": [
  {
   "cell_type": "markdown",
   "metadata": {},
   "source": [
    "# Pollen Data Visualisation\n",
    "The purpose of this notebook is to:\n",
    "- Load fossilised pollen assemblage and chronology data from the European Pollen Database (EPD)\n",
    "- Build interactive visualisations to explore the data\n",
    "- Derive hypotheses as to the causal drivers of trends observed in the data"
   ]
  },
  {
   "cell_type": "code",
   "execution_count": 193,
   "metadata": {
    "collapsed": true
   },
   "outputs": [],
   "source": [
    "from sqlalchemy import create_engine\n",
    "import pandas as pd\n",
    "import os"
   ]
  },
  {
   "cell_type": "markdown",
   "metadata": {},
   "source": [
    "Prior work has idendtified six sites as being of particular interest due to their temporal coverage of the majority of the Holocene, their spatial distribution around Iberia, and the fact that many of them provide evidence of human involvement in changing the landscape. \n",
    "\n",
    "These sites all have records stored in the EPD, and can be uniquely identified using the `sitecode` field in the `siteloc` table. These site names and corresponding sitecodes are stored in the dictionary `ssites' "
   ]
  },
  {
   "cell_type": "code",
   "execution_count": 19,
   "metadata": {
    "collapsed": true
   },
   "outputs": [],
   "source": [
    "ssites = {'San Rafael' : 'ESP-01000-SANR',\n",
    "          'Albufera de Alcudia' : 'ESP-04000-ALBU',\n",
    "          'Navarres' : 'ESP-11000-NAVA',\n",
    "          'Laguna Guallar' : 'ESP-02000-LAGU',\n",
    "          'Monte Areo mire' : 'ESP-03000-AREO',\n",
    "          'Sanabria Marsh' : 'ESP-08000-SANA'}"
   ]
  },
  {
   "cell_type": "markdown",
   "metadata": {},
   "source": [
    "Create a database engine for the session"
   ]
  },
  {
   "cell_type": "code",
   "execution_count": 3,
   "metadata": {
    "collapsed": true
   },
   "outputs": [],
   "source": [
    "engine = create_engine('postgresql://andrew@localhost:5432/epd95')"
   ]
  },
  {
   "cell_type": "markdown",
   "metadata": {},
   "source": [
    "### Get site location information"
   ]
  },
  {
   "cell_type": "markdown",
   "metadata": {},
   "source": [
    "Function to return the site location information for a list of site codes"
   ]
  },
  {
   "cell_type": "code",
   "execution_count": 41,
   "metadata": {
    "collapsed": true
   },
   "outputs": [],
   "source": [
    "def get_site_loc_info(site_code_list):\n",
    "    #construct string for postgreql WHERE condition based on input array\n",
    "    where_condition = ' OR '.join([\"sitecode = '\"+x+\"'\" for x in ssites.values()])\n",
    "    query = \"SELECT * FROM siteloc WHERE \" + where_condition\n",
    "    \n",
    "    # return results in pandas dataframe\n",
    "    return pd.read_sql_query(query, con=engine)   "
   ]
  },
  {
   "cell_type": "code",
   "execution_count": 76,
   "metadata": {
    "collapsed": false,
    "scrolled": true
   },
   "outputs": [
    {
     "name": "stdout",
     "output_type": "stream",
     "text": [
      "                     sitename        sitecode siteexists poldiv1 poldiv2  \\\n",
      "site_                                                                      \n",
      "44             Sanabria Marsh  ESP-08000-SANA       None     ESP      08   \n",
      "396                  Navarrés  ESP-11000-NAVA       None     ESP      11   \n",
      "486                San Rafael  ESP-01000-SANR       None     ESP      01   \n",
      "759          Albufera Alcudia  ESP-04000-ALBU       None     ESP      04   \n",
      "761            Laguna Guallar  ESP-02000-LAGU       None     ESP      02   \n",
      "784    Laguna Salada Chiprana  ESP-02000-LAGU       None     ESP      02   \n",
      "1252          Monte Areo mire  ESP-03000-AREO       None     ESP      03   \n",
      "\n",
      "      poldiv3  latdeg  latmin  latsec latns      latdd     latdms  londeg  \\\n",
      "site_                                                                       \n",
      "44        000      42       6       0     N  42.100000  42.06.00N       6   \n",
      "396       000      39       6       0     N  39.100000  39.06.00N       0   \n",
      "486       000      36      46      25     N  36.773611  36.46.25N       2   \n",
      "759       000      39      47      34     N  39.792778  39.47.34N       3   \n",
      "761       000      41      24       0     N  41.400000  41.24.00N       0   \n",
      "784       000      41      14       0     N  41.233333  41.14.00N       0   \n",
      "1252      000      43      31      44     N  43.528889  43.31.44N       5   \n",
      "\n",
      "       lonmin  lonsec lonew     londd      londms  elevation  areaofsite  \n",
      "site_                                                                     \n",
      "44         44       0     W -6.733333    6.44.00W       1050         NaN  \n",
      "396        41       0     W -0.683333    0.41.00W        225         1.5  \n",
      "486        36       5     W -2.601389    2.36.05W          0         NaN  \n",
      "759         7       9     E  3.119167    3.07.09E          0         NaN  \n",
      "761        13       0     W -0.216667    0.13.00W        336         9.2  \n",
      "784        10       0     W -0.166667    0.10.00W        150        23.0  \n",
      "1252       46       8     W -5.768889    5.46.08W        200         NaN  \n"
     ]
    }
   ],
   "source": [
    "site_loc_info = get_site_loc_info(ssites.values())\n",
    "site_loc_info.set_index('site_',inplace=True)\n",
    "print site_loc_info"
   ]
  },
  {
   "cell_type": "markdown",
   "metadata": {},
   "source": [
    "Note that site no. 784  Laguna Salada Chiprana seems to have same sitecode as site no. as our study site no. 761  Laguna Guallar. Let's drop this site to avoid confusion later on."
   ]
  },
  {
   "cell_type": "code",
   "execution_count": 77,
   "metadata": {
    "collapsed": false
   },
   "outputs": [
    {
     "name": "stdout",
     "output_type": "stream",
     "text": [
      "               sitename        sitecode siteexists poldiv1 poldiv2 poldiv3  \\\n",
      "site_                                                                        \n",
      "44       Sanabria Marsh  ESP-08000-SANA       None     ESP      08     000   \n",
      "396            Navarrés  ESP-11000-NAVA       None     ESP      11     000   \n",
      "486          San Rafael  ESP-01000-SANR       None     ESP      01     000   \n",
      "759    Albufera Alcudia  ESP-04000-ALBU       None     ESP      04     000   \n",
      "761      Laguna Guallar  ESP-02000-LAGU       None     ESP      02     000   \n",
      "1252    Monte Areo mire  ESP-03000-AREO       None     ESP      03     000   \n",
      "\n",
      "       latdeg  latmin  latsec latns      latdd     latdms  londeg  lonmin  \\\n",
      "site_                                                                       \n",
      "44         42       6       0     N  42.100000  42.06.00N       6      44   \n",
      "396        39       6       0     N  39.100000  39.06.00N       0      41   \n",
      "486        36      46      25     N  36.773611  36.46.25N       2      36   \n",
      "759        39      47      34     N  39.792778  39.47.34N       3       7   \n",
      "761        41      24       0     N  41.400000  41.24.00N       0      13   \n",
      "1252       43      31      44     N  43.528889  43.31.44N       5      46   \n",
      "\n",
      "       lonsec lonew     londd      londms  elevation  areaofsite  \n",
      "site_                                                             \n",
      "44          0     W -6.733333    6.44.00W       1050         NaN  \n",
      "396         0     W -0.683333    0.41.00W        225         1.5  \n",
      "486         5     W -2.601389    2.36.05W          0         NaN  \n",
      "759         9     E  3.119167    3.07.09E          0         NaN  \n",
      "761         0     W -0.216667    0.13.00W        336         9.2  \n",
      "1252        8     W -5.768889    5.46.08W        200         NaN  \n"
     ]
    }
   ],
   "source": [
    "site_loc_info.drop(784,inplace=True)\n",
    "print site_loc_info"
   ]
  },
  {
   "cell_type": "markdown",
   "metadata": {},
   "source": [
    "### Identify sediment cores associated with each site"
   ]
  },
  {
   "cell_type": "markdown",
   "metadata": {},
   "source": [
    "The EPD [documentation](http://www.europeanpollendatabase.net/data/downloads/image/pollen-database-manual-20071011.doc) explains that there are potentially multiple 'entities' associated with each site location. An 'entity' simply refers to a sediment core, section or surface sample.\n",
    "\n",
    "Define a function to return all entities (or cores) associated with a given site number:"
   ]
  },
  {
   "cell_type": "code",
   "execution_count": 78,
   "metadata": {
    "collapsed": true
   },
   "outputs": [],
   "source": [
    "def get_entity_info(site_number):\n",
    "    # query finds all fields from entity table for records \n",
    "    # matching given site_number.\n",
    "    query = \"SELECT * FROM entity WHERE site_ = {0}\".format(site_number)\n",
    "             \n",
    "    # return results in pandas dataframe\n",
    "    return pd.read_sql_query(query, con=engine)   "
   ]
  },
  {
   "cell_type": "markdown",
   "metadata": {},
   "source": [
    "Create a dataframe containing entity information for all study sites"
   ]
  },
  {
   "cell_type": "code",
   "execution_count": 141,
   "metadata": {
    "collapsed": false
   },
   "outputs": [],
   "source": [
    "ssite_numbers = site_loc_info.index\n",
    "for i in range(len(ssite_numbers)):\n",
    "    if i == 0:\n",
    "        site_entity_info = get_entity_info(ssite_numbers[i])\n",
    "    else:\n",
    "        site_entity_info = site_entity_info.append(get_entity_info(ssite_numbers[i]), ignore_index=True)\n",
    "site_entity_info.set_index('e_',inplace=True)"
   ]
  },
  {
   "cell_type": "code",
   "execution_count": 142,
   "metadata": {
    "collapsed": false
   },
   "outputs": [],
   "source": [
    "site_entity_info = site_entity_info.join(site_loc_info, on='site_', how='left')\n",
    "\n",
    "site_entity_info = site_entity_info.drop(['latns','latdd','latdms','londeg','lonmin',u'poldiv1',\n",
    "                      u'poldiv2',u'poldiv3',u'latdeg',u'latmin',u'latsec',\n",
    "                      u'lonsec', u'lonew', u'londd', u'londms', u'elevation', u'areaofsite',\n",
    "                      u'depthatloc', u'icethickcm', u'sampdevice', u'corediamcm',\n",
    "                      u'c14depthadj', u'notes','siteexists','localveg','hasanlam','coll_'],axis=1)"
   ]
  },
  {
   "cell_type": "code",
   "execution_count": 143,
   "metadata": {
    "collapsed": false
   },
   "outputs": [
    {
     "name": "stdout",
     "output_type": "stream",
     "text": [
      "      site_     sigle    name iscore issect isssamp descriptor  \\\n",
      "e_                                                               \n",
      "44       44  SANABRIA    None      Y      N       Y       PMSH   \n",
      "469     396     NAVA1  core 1      Y      N       Y       PMIR   \n",
      "470     396     NAVA2  core 2      Y      N       Y       PMIR   \n",
      "471     396  NAVARRE3    None      Y      N       Y       UNKN   \n",
      "574     486   SANRAFA    None      Y      N       Y       MCOA   \n",
      "891     759   ALCUDIA    None      Y      N       Y       MCOA   \n",
      "893     761     N-GUA  core 1      Y      N       Y       LNPL   \n",
      "1562   1252      AREO    None      Y      N       N       PMIR   \n",
      "\n",
      "                     entloc    sampdate          sitename        sitecode  \n",
      "e_                                                                         \n",
      "44                     None  1981-05-00    Sanabria Marsh  ESP-08000-SANA  \n",
      "469        Center of valley  1993-06-15          Navarrés  ESP-11000-NAVA  \n",
      "470        Center of valley  1993-06-15          Navarrés  ESP-11000-NAVA  \n",
      "471        Center of valley  1997-00-00          Navarrés  ESP-11000-NAVA  \n",
      "574         East of Almeria  1994-00-00        San Rafael  ESP-01000-SANR  \n",
      "891   NE of Mallorca island  1992-00-00  Albufera Alcudia  ESP-04000-ALBU  \n",
      "893             Lake centre  1991-07-14    Laguna Guallar  ESP-02000-LAGU  \n",
      "1562   mire near Gijón city  0000-00-00   Monte Areo mire  ESP-03000-AREO  \n"
     ]
    }
   ],
   "source": [
    "print site_entity_info "
   ]
  },
  {
   "cell_type": "markdown",
   "metadata": {},
   "source": [
    "### Get pollen counts"
   ]
  },
  {
   "cell_type": "markdown",
   "metadata": {},
   "source": [
    "Function which extracts pollen count data for a given entity (i.e. sediment core) number and joins it to the p_vars table to incorporate species data useful to subsequent analysis."
   ]
  },
  {
   "cell_type": "code",
   "execution_count": 199,
   "metadata": {
    "collapsed": true
   },
   "outputs": [],
   "source": [
    "def get_p_count(entity):\n",
    "    query=\"\"\"SELECT p_counts.e_,p_counts.sample_,p_counts.var_,\n",
    "             p_counts.count,p_vars.varcode,p_vars.varname \n",
    "             FROM p_counts\n",
    "             LEFT JOIN p_vars\n",
    "             ON p_counts.var_=p_vars.var_\n",
    "             WHERE p_counts.e_={0};\"\"\".format(entity)\n",
    "    return pd.read_sql_query(query, con=engine)   "
   ]
  },
  {
   "cell_type": "markdown",
   "metadata": {},
   "source": [
    "Example of output for the San Rafael entitity (number 574)"
   ]
  },
  {
   "cell_type": "code",
   "execution_count": 198,
   "metadata": {
    "collapsed": false
   },
   "outputs": [
    {
     "data": {
      "text/html": [
       "<div>\n",
       "<table border=\"1\" class=\"dataframe\">\n",
       "  <thead>\n",
       "    <tr style=\"text-align: right;\">\n",
       "      <th></th>\n",
       "      <th>e_</th>\n",
       "      <th>sample_</th>\n",
       "      <th>var_</th>\n",
       "      <th>count</th>\n",
       "      <th>varcode</th>\n",
       "      <th>varname</th>\n",
       "    </tr>\n",
       "  </thead>\n",
       "  <tbody>\n",
       "    <tr>\n",
       "      <th>0</th>\n",
       "      <td>574</td>\n",
       "      <td>1</td>\n",
       "      <td>66</td>\n",
       "      <td>27.0</td>\n",
       "      <td>Art</td>\n",
       "      <td>Artemisia</td>\n",
       "    </tr>\n",
       "    <tr>\n",
       "      <th>1</th>\n",
       "      <td>574</td>\n",
       "      <td>1</td>\n",
       "      <td>95</td>\n",
       "      <td>1.0</td>\n",
       "      <td>Bet</td>\n",
       "      <td>Betula</td>\n",
       "    </tr>\n",
       "    <tr>\n",
       "      <th>2</th>\n",
       "      <td>574</td>\n",
       "      <td>1</td>\n",
       "      <td>165</td>\n",
       "      <td>2.0</td>\n",
       "      <td>Crl-T</td>\n",
       "      <td>Cerealia-type</td>\n",
       "    </tr>\n",
       "    <tr>\n",
       "      <th>3</th>\n",
       "      <td>574</td>\n",
       "      <td>1</td>\n",
       "      <td>185</td>\n",
       "      <td>108.0</td>\n",
       "      <td>Cheae</td>\n",
       "      <td>Chenopodiaceae</td>\n",
       "    </tr>\n",
       "    <tr>\n",
       "      <th>4</th>\n",
       "      <td>574</td>\n",
       "      <td>1</td>\n",
       "      <td>196</td>\n",
       "      <td>1.0</td>\n",
       "      <td>Ciu</td>\n",
       "      <td>Cistus</td>\n",
       "    </tr>\n",
       "  </tbody>\n",
       "</table>\n",
       "</div>"
      ],
      "text/plain": [
       "    e_  sample_  var_  count varcode         varname\n",
       "0  574        1    66   27.0     Art       Artemisia\n",
       "1  574        1    95    1.0     Bet          Betula\n",
       "2  574        1   165    2.0   Crl-T   Cerealia-type\n",
       "3  574        1   185  108.0   Cheae  Chenopodiaceae\n",
       "4  574        1   196    1.0     Ciu          Cistus"
      ]
     },
     "execution_count": 198,
     "metadata": {},
     "output_type": "execute_result"
    }
   ],
   "source": [
    "get_p_count(574).head()"
   ]
  },
  {
   "cell_type": "markdown",
   "metadata": {},
   "source": [
    "Write pollen count data to file for each of the entities identified in the `site_entity_info` dataframe."
   ]
  },
  {
   "cell_type": "code",
   "execution_count": 195,
   "metadata": {
    "collapsed": false
   },
   "outputs": [],
   "source": [
    "for e in site_entity_info.index:\n",
    "    e_dat = site_entity_info.loc[e]\n",
    "    # construct file name string using data from site_entity_info dataframe\n",
    "    s = 'e'+str(e)+'_s'+str(e_dat.site_)+'_'+e_dat.sitename.replace(' ','_').replace(u'é','e')+\\\n",
    "        '_pcounts.csv'\n",
    "        \n",
    "    p_dat = get_p_count(e) # dataframe containing pollen count data for entity\n",
    "    p_dat.drop('e_',axis=1).to_csv(os.path.join('data',s),index=False)"
   ]
  },
  {
   "cell_type": "markdown",
   "metadata": {},
   "source": [
    "### Get radiocarbon dates"
   ]
  },
  {
   "cell_type": "markdown",
   "metadata": {},
   "source": [
    "Chronologies apply to /samples/ within entities (cores). These chronologies are the results of models which are used to interpolate the age of all samples in a given core based on C14 testing of a subset of those samples.\n",
    "\n",
    "For some cores there are multiple chronologies supplied in the EPD. In these instances, the chronology which is marked as **default** in the database is the one which is extracted (see [documentation](http://www.europeanpollendatabase.net/data/downloads/image/pollen-database-manual-20071011.doc) for details).\n",
    "\n",
    "Information about chronologies for each core is provided in the `chron` table. The inferred fitted chronology for pollen samples is contained in the `p_adedpt` table.\n",
    "\n",
    "Additionally, we can find the dates corresponding to the samples which were actually tested in the `c14` table, but this will not enter into our analyses here.\n",
    "\n",
    "We now define a function for extracting the fitted chronology for a given entity:"
   ]
  },
  {
   "cell_type": "code",
   "execution_count": 220,
   "metadata": {
    "collapsed": false
   },
   "outputs": [],
   "source": [
    "def get_chronology(entity):\n",
    "    # get id of database default chronology for selected entity\n",
    "    def_chron_no=pd.read_sql_query(\"SELECT chron_ FROM chron WHERE e_={0} AND defaultchron='Y'\".format(entity), \n",
    "                                   con=engine)['chron_'].values[0]  \n",
    "    \n",
    "    query = \"SELECT * FROM p_agedpt WHERE e_={0} AND chron_={1}\".format(entity,def_chron_no)\n",
    "    return pd.read_sql_query(query,con=engine).drop(['chron_'],axis=1)\n"
   ]
  },
  {
   "cell_type": "markdown",
   "metadata": {},
   "source": [
    "Sample output for Laguna Guallar (entity 893)"
   ]
  },
  {
   "cell_type": "code",
   "execution_count": 223,
   "metadata": {
    "collapsed": false
   },
   "outputs": [
    {
     "data": {
      "text/html": [
       "<div>\n",
       "<table border=\"1\" class=\"dataframe\">\n",
       "  <thead>\n",
       "    <tr style=\"text-align: right;\">\n",
       "      <th></th>\n",
       "      <th>e_</th>\n",
       "      <th>sample_</th>\n",
       "      <th>agebp</th>\n",
       "      <th>ageup</th>\n",
       "      <th>agelo</th>\n",
       "      <th>deptime</th>\n",
       "    </tr>\n",
       "  </thead>\n",
       "  <tbody>\n",
       "    <tr>\n",
       "      <th>0</th>\n",
       "      <td>893</td>\n",
       "      <td>1</td>\n",
       "      <td>0.0</td>\n",
       "      <td>None</td>\n",
       "      <td>None</td>\n",
       "      <td>None</td>\n",
       "    </tr>\n",
       "    <tr>\n",
       "      <th>1</th>\n",
       "      <td>893</td>\n",
       "      <td>2</td>\n",
       "      <td>982.0</td>\n",
       "      <td>None</td>\n",
       "      <td>None</td>\n",
       "      <td>None</td>\n",
       "    </tr>\n",
       "    <tr>\n",
       "      <th>2</th>\n",
       "      <td>893</td>\n",
       "      <td>3</td>\n",
       "      <td>1963.0</td>\n",
       "      <td>None</td>\n",
       "      <td>None</td>\n",
       "      <td>None</td>\n",
       "    </tr>\n",
       "    <tr>\n",
       "      <th>3</th>\n",
       "      <td>893</td>\n",
       "      <td>4</td>\n",
       "      <td>2945.0</td>\n",
       "      <td>None</td>\n",
       "      <td>None</td>\n",
       "      <td>None</td>\n",
       "    </tr>\n",
       "    <tr>\n",
       "      <th>4</th>\n",
       "      <td>893</td>\n",
       "      <td>5</td>\n",
       "      <td>3927.0</td>\n",
       "      <td>None</td>\n",
       "      <td>None</td>\n",
       "      <td>None</td>\n",
       "    </tr>\n",
       "  </tbody>\n",
       "</table>\n",
       "</div>"
      ],
      "text/plain": [
       "    e_  sample_   agebp ageup agelo deptime\n",
       "0  893        1     0.0  None  None    None\n",
       "1  893        2   982.0  None  None    None\n",
       "2  893        3  1963.0  None  None    None\n",
       "3  893        4  2945.0  None  None    None\n",
       "4  893        5  3927.0  None  None    None"
      ]
     },
     "execution_count": 223,
     "metadata": {},
     "output_type": "execute_result"
    }
   ],
   "source": [
    "get_chronology(893).head()"
   ]
  },
  {
   "cell_type": "markdown",
   "metadata": {},
   "source": [
    "Write chronologies for each entity to data folder"
   ]
  },
  {
   "cell_type": "code",
   "execution_count": 225,
   "metadata": {
    "collapsed": true
   },
   "outputs": [],
   "source": [
    "for e in site_entity_info.index:\n",
    "    e_dat = site_entity_info.loc[e]\n",
    "    # construct file name string using data from site_entity_info dataframe\n",
    "    s = 'e'+str(e)+'_s'+str(e_dat.site_)+'_'+e_dat.sitename.replace(' ','_').replace(u'é','e')+\\\n",
    "        '_chron.csv'\n",
    "        \n",
    "    p_dat = get_chronology(e) # dataframe containing chronology data for entity\n",
    "    p_dat.drop('e_',axis=1).to_csv(os.path.join('data',s),index=False)"
   ]
  }
 ],
 "metadata": {
  "anaconda-cloud": {},
  "kernelspec": {
   "display_name": "Python [conda root]",
   "language": "python",
   "name": "conda-root-py"
  },
  "language_info": {
   "codemirror_mode": {
    "name": "ipython",
    "version": 2
   },
   "file_extension": ".py",
   "mimetype": "text/x-python",
   "name": "python",
   "nbconvert_exporter": "python",
   "pygments_lexer": "ipython2",
   "version": "2.7.12"
  }
 },
 "nbformat": 4,
 "nbformat_minor": 1
}
